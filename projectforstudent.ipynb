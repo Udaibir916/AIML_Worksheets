{
 "cells": [
  {
   "cell_type": "code",
   "execution_count": 1,
   "id": "d4698176",
   "metadata": {},
   "outputs": [
    {
     "data": {
      "text/html": [
       "<div>\n",
       "<style scoped>\n",
       "    .dataframe tbody tr th:only-of-type {\n",
       "        vertical-align: middle;\n",
       "    }\n",
       "\n",
       "    .dataframe tbody tr th {\n",
       "        vertical-align: top;\n",
       "    }\n",
       "\n",
       "    .dataframe thead th {\n",
       "        text-align: right;\n",
       "    }\n",
       "</style>\n",
       "<table border=\"1\" class=\"dataframe\">\n",
       "  <thead>\n",
       "    <tr style=\"text-align: right;\">\n",
       "      <th></th>\n",
       "      <th>Names</th>\n",
       "      <th>Marks</th>\n",
       "      <th>Gender</th>\n",
       "    </tr>\n",
       "  </thead>\n",
       "  <tbody>\n",
       "    <tr>\n",
       "      <th>0</th>\n",
       "      <td>Ram</td>\n",
       "      <td>56</td>\n",
       "      <td>male</td>\n",
       "    </tr>\n",
       "    <tr>\n",
       "      <th>1</th>\n",
       "      <td>suresh</td>\n",
       "      <td>57</td>\n",
       "      <td>male</td>\n",
       "    </tr>\n",
       "    <tr>\n",
       "      <th>2</th>\n",
       "      <td>Suresh</td>\n",
       "      <td>58</td>\n",
       "      <td>male</td>\n",
       "    </tr>\n",
       "    <tr>\n",
       "      <th>3</th>\n",
       "      <td>Ramesh</td>\n",
       "      <td>59</td>\n",
       "      <td>male</td>\n",
       "    </tr>\n",
       "    <tr>\n",
       "      <th>4</th>\n",
       "      <td>Mohit</td>\n",
       "      <td>60</td>\n",
       "      <td>male</td>\n",
       "    </tr>\n",
       "    <tr>\n",
       "      <th>5</th>\n",
       "      <td>sonali</td>\n",
       "      <td>61</td>\n",
       "      <td>female</td>\n",
       "    </tr>\n",
       "    <tr>\n",
       "      <th>6</th>\n",
       "      <td>reena</td>\n",
       "      <td>62</td>\n",
       "      <td>female</td>\n",
       "    </tr>\n",
       "    <tr>\n",
       "      <th>7</th>\n",
       "      <td>soniya</td>\n",
       "      <td>63</td>\n",
       "      <td>female</td>\n",
       "    </tr>\n",
       "  </tbody>\n",
       "</table>\n",
       "</div>"
      ],
      "text/plain": [
       "    Names  Marks  Gender\n",
       "0     Ram     56    male\n",
       "1  suresh     57    male\n",
       "2  Suresh     58    male\n",
       "3  Ramesh     59    male\n",
       "4   Mohit     60    male\n",
       "5  sonali     61  female\n",
       "6   reena     62  female\n",
       "7  soniya     63  female"
      ]
     },
     "execution_count": 1,
     "metadata": {},
     "output_type": "execute_result"
    }
   ],
   "source": [
    "import pandas as pd\n",
    "\n",
    "dict={'Names':['Ram','suresh','Suresh','Ramesh','Mohit','sonali','reena','soniya'], \n",
    "      'Marks':[56,57,58,59,60,61,62,63],\n",
    "      'Gender':['male','male','male','male','male','female','female','female']\n",
    "     }\n",
    "\n",
    "df1=pd.DataFrame(dict)\n",
    "df1"
   ]
  },
  {
   "cell_type": "markdown",
   "id": "dc0e72c6",
   "metadata": {},
   "source": [
    "# 1.Display Top3 Rows in Dataset\n",
    "\n",
    "\n"
   ]
  },
  {
   "cell_type": "code",
   "execution_count": 2,
   "id": "045ed71d",
   "metadata": {},
   "outputs": [
    {
     "data": {
      "text/html": [
       "<div>\n",
       "<style scoped>\n",
       "    .dataframe tbody tr th:only-of-type {\n",
       "        vertical-align: middle;\n",
       "    }\n",
       "\n",
       "    .dataframe tbody tr th {\n",
       "        vertical-align: top;\n",
       "    }\n",
       "\n",
       "    .dataframe thead th {\n",
       "        text-align: right;\n",
       "    }\n",
       "</style>\n",
       "<table border=\"1\" class=\"dataframe\">\n",
       "  <thead>\n",
       "    <tr style=\"text-align: right;\">\n",
       "      <th></th>\n",
       "      <th>Names</th>\n",
       "      <th>Marks</th>\n",
       "      <th>Gender</th>\n",
       "    </tr>\n",
       "  </thead>\n",
       "  <tbody>\n",
       "    <tr>\n",
       "      <th>0</th>\n",
       "      <td>Ram</td>\n",
       "      <td>56</td>\n",
       "      <td>male</td>\n",
       "    </tr>\n",
       "    <tr>\n",
       "      <th>1</th>\n",
       "      <td>suresh</td>\n",
       "      <td>57</td>\n",
       "      <td>male</td>\n",
       "    </tr>\n",
       "    <tr>\n",
       "      <th>2</th>\n",
       "      <td>Suresh</td>\n",
       "      <td>58</td>\n",
       "      <td>male</td>\n",
       "    </tr>\n",
       "    <tr>\n",
       "      <th>3</th>\n",
       "      <td>Ramesh</td>\n",
       "      <td>59</td>\n",
       "      <td>male</td>\n",
       "    </tr>\n",
       "    <tr>\n",
       "      <th>4</th>\n",
       "      <td>Mohit</td>\n",
       "      <td>60</td>\n",
       "      <td>male</td>\n",
       "    </tr>\n",
       "  </tbody>\n",
       "</table>\n",
       "</div>"
      ],
      "text/plain": [
       "    Names  Marks Gender\n",
       "0     Ram     56   male\n",
       "1  suresh     57   male\n",
       "2  Suresh     58   male\n",
       "3  Ramesh     59   male\n",
       "4   Mohit     60   male"
      ]
     },
     "execution_count": 2,
     "metadata": {},
     "output_type": "execute_result"
    }
   ],
   "source": [
    "#by default head give five rows\n",
    "df1.head()\n",
    "\n",
    "# top three rows\n",
    "#df1.head(3)"
   ]
  },
  {
   "cell_type": "markdown",
   "id": "54221f2a",
   "metadata": {},
   "source": [
    "# 2.Check last 3 rows of the Dataset\n"
   ]
  },
  {
   "cell_type": "code",
   "execution_count": 3,
   "id": "bce75beb",
   "metadata": {},
   "outputs": [
    {
     "data": {
      "text/html": [
       "<div>\n",
       "<style scoped>\n",
       "    .dataframe tbody tr th:only-of-type {\n",
       "        vertical-align: middle;\n",
       "    }\n",
       "\n",
       "    .dataframe tbody tr th {\n",
       "        vertical-align: top;\n",
       "    }\n",
       "\n",
       "    .dataframe thead th {\n",
       "        text-align: right;\n",
       "    }\n",
       "</style>\n",
       "<table border=\"1\" class=\"dataframe\">\n",
       "  <thead>\n",
       "    <tr style=\"text-align: right;\">\n",
       "      <th></th>\n",
       "      <th>Names</th>\n",
       "      <th>Marks</th>\n",
       "      <th>Gender</th>\n",
       "    </tr>\n",
       "  </thead>\n",
       "  <tbody>\n",
       "    <tr>\n",
       "      <th>3</th>\n",
       "      <td>Ramesh</td>\n",
       "      <td>59</td>\n",
       "      <td>male</td>\n",
       "    </tr>\n",
       "    <tr>\n",
       "      <th>4</th>\n",
       "      <td>Mohit</td>\n",
       "      <td>60</td>\n",
       "      <td>male</td>\n",
       "    </tr>\n",
       "    <tr>\n",
       "      <th>5</th>\n",
       "      <td>sonali</td>\n",
       "      <td>61</td>\n",
       "      <td>female</td>\n",
       "    </tr>\n",
       "    <tr>\n",
       "      <th>6</th>\n",
       "      <td>reena</td>\n",
       "      <td>62</td>\n",
       "      <td>female</td>\n",
       "    </tr>\n",
       "    <tr>\n",
       "      <th>7</th>\n",
       "      <td>soniya</td>\n",
       "      <td>63</td>\n",
       "      <td>female</td>\n",
       "    </tr>\n",
       "  </tbody>\n",
       "</table>\n",
       "</div>"
      ],
      "text/plain": [
       "    Names  Marks  Gender\n",
       "3  Ramesh     59    male\n",
       "4   Mohit     60    male\n",
       "5  sonali     61  female\n",
       "6   reena     62  female\n",
       "7  soniya     63  female"
      ]
     },
     "execution_count": 3,
     "metadata": {},
     "output_type": "execute_result"
    }
   ],
   "source": [
    "df1.tail()"
   ]
  },
  {
   "cell_type": "markdown",
   "id": "f45f555c",
   "metadata": {},
   "source": [
    "# 3.find Shape of our DataSet(Number of Rows &Number of Colums)"
   ]
  },
  {
   "cell_type": "code",
   "execution_count": 35,
   "id": "c6224974",
   "metadata": {},
   "outputs": [
    {
     "name": "stdout",
     "output_type": "stream",
     "text": [
      "number of columns 5\n"
     ]
    }
   ],
   "source": [
    "#df1.shape\n",
    "#print('Number of Rows',df1.shape[0])\n",
    "print('number of columns',df1.shape[1])"
   ]
  },
  {
   "cell_type": "markdown",
   "id": "1d0e8a4e",
   "metadata": {},
   "source": [
    "# 4.GET INFORMATION ABOUT OUR DATASET LIKE TOTAL NUMBER ROWS,TOTAL NUMBER OF COLUMNS,DATATYPES OF EACH COLUMN AND MEMORY REQUIRED"
   ]
  },
  {
   "cell_type": "code",
   "execution_count": 5,
   "id": "b9652b8c",
   "metadata": {},
   "outputs": [
    {
     "name": "stdout",
     "output_type": "stream",
     "text": [
      "<class 'pandas.core.frame.DataFrame'>\n",
      "RangeIndex: 8 entries, 0 to 7\n",
      "Data columns (total 3 columns):\n",
      " #   Column  Non-Null Count  Dtype \n",
      "---  ------  --------------  ----- \n",
      " 0   Names   8 non-null      object\n",
      " 1   Marks   8 non-null      int64 \n",
      " 2   Gender  8 non-null      object\n",
      "dtypes: int64(1), object(2)\n",
      "memory usage: 324.0+ bytes\n"
     ]
    }
   ],
   "source": [
    "df1.info()"
   ]
  },
  {
   "cell_type": "markdown",
   "id": "4ea80db9",
   "metadata": {},
   "source": [
    "# 5.CHECK NULL VALUES IN THE DATASET"
   ]
  },
  {
   "cell_type": "code",
   "execution_count": 12,
   "id": "83215172",
   "metadata": {},
   "outputs": [
    {
     "data": {
      "text/html": [
       "<div>\n",
       "<style scoped>\n",
       "    .dataframe tbody tr th:only-of-type {\n",
       "        vertical-align: middle;\n",
       "    }\n",
       "\n",
       "    .dataframe tbody tr th {\n",
       "        vertical-align: top;\n",
       "    }\n",
       "\n",
       "    .dataframe thead th {\n",
       "        text-align: right;\n",
       "    }\n",
       "</style>\n",
       "<table border=\"1\" class=\"dataframe\">\n",
       "  <thead>\n",
       "    <tr style=\"text-align: right;\">\n",
       "      <th></th>\n",
       "      <th>Names</th>\n",
       "      <th>Marks</th>\n",
       "      <th>Gender</th>\n",
       "    </tr>\n",
       "  </thead>\n",
       "  <tbody>\n",
       "    <tr>\n",
       "      <th>0</th>\n",
       "      <td>False</td>\n",
       "      <td>False</td>\n",
       "      <td>False</td>\n",
       "    </tr>\n",
       "    <tr>\n",
       "      <th>1</th>\n",
       "      <td>False</td>\n",
       "      <td>False</td>\n",
       "      <td>False</td>\n",
       "    </tr>\n",
       "    <tr>\n",
       "      <th>2</th>\n",
       "      <td>False</td>\n",
       "      <td>False</td>\n",
       "      <td>False</td>\n",
       "    </tr>\n",
       "    <tr>\n",
       "      <th>3</th>\n",
       "      <td>False</td>\n",
       "      <td>False</td>\n",
       "      <td>False</td>\n",
       "    </tr>\n",
       "    <tr>\n",
       "      <th>4</th>\n",
       "      <td>False</td>\n",
       "      <td>False</td>\n",
       "      <td>False</td>\n",
       "    </tr>\n",
       "    <tr>\n",
       "      <th>5</th>\n",
       "      <td>False</td>\n",
       "      <td>False</td>\n",
       "      <td>False</td>\n",
       "    </tr>\n",
       "    <tr>\n",
       "      <th>6</th>\n",
       "      <td>False</td>\n",
       "      <td>False</td>\n",
       "      <td>False</td>\n",
       "    </tr>\n",
       "    <tr>\n",
       "      <th>7</th>\n",
       "      <td>False</td>\n",
       "      <td>False</td>\n",
       "      <td>False</td>\n",
       "    </tr>\n",
       "  </tbody>\n",
       "</table>\n",
       "</div>"
      ],
      "text/plain": [
       "   Names  Marks  Gender\n",
       "0  False  False   False\n",
       "1  False  False   False\n",
       "2  False  False   False\n",
       "3  False  False   False\n",
       "4  False  False   False\n",
       "5  False  False   False\n",
       "6  False  False   False\n",
       "7  False  False   False"
      ]
     },
     "execution_count": 12,
     "metadata": {},
     "output_type": "execute_result"
    }
   ],
   "source": [
    "df1.isnull()\n",
    "#df1.isnull().sum(axis=1)"
   ]
  },
  {
   "cell_type": "markdown",
   "id": "49ade626",
   "metadata": {},
   "source": [
    "# GET OVERALL STATISTICS ABOUT DATAFRAME\n"
   ]
  },
  {
   "cell_type": "code",
   "execution_count": 41,
   "id": "f8f832c4",
   "metadata": {},
   "outputs": [
    {
     "data": {
      "text/html": [
       "<div>\n",
       "<style scoped>\n",
       "    .dataframe tbody tr th:only-of-type {\n",
       "        vertical-align: middle;\n",
       "    }\n",
       "\n",
       "    .dataframe tbody tr th {\n",
       "        vertical-align: top;\n",
       "    }\n",
       "\n",
       "    .dataframe thead th {\n",
       "        text-align: right;\n",
       "    }\n",
       "</style>\n",
       "<table border=\"1\" class=\"dataframe\">\n",
       "  <thead>\n",
       "    <tr style=\"text-align: right;\">\n",
       "      <th></th>\n",
       "      <th>Marks</th>\n",
       "      <th>half_marks</th>\n",
       "      <th>male_female</th>\n",
       "    </tr>\n",
       "  </thead>\n",
       "  <tbody>\n",
       "    <tr>\n",
       "      <th>count</th>\n",
       "      <td>8.00000</td>\n",
       "      <td>8.000000</td>\n",
       "      <td>8.000000</td>\n",
       "    </tr>\n",
       "    <tr>\n",
       "      <th>mean</th>\n",
       "      <td>59.50000</td>\n",
       "      <td>29.750000</td>\n",
       "      <td>0.625000</td>\n",
       "    </tr>\n",
       "    <tr>\n",
       "      <th>std</th>\n",
       "      <td>2.44949</td>\n",
       "      <td>1.224745</td>\n",
       "      <td>0.517549</td>\n",
       "    </tr>\n",
       "    <tr>\n",
       "      <th>min</th>\n",
       "      <td>56.00000</td>\n",
       "      <td>28.000000</td>\n",
       "      <td>0.000000</td>\n",
       "    </tr>\n",
       "    <tr>\n",
       "      <th>25%</th>\n",
       "      <td>57.75000</td>\n",
       "      <td>28.875000</td>\n",
       "      <td>0.000000</td>\n",
       "    </tr>\n",
       "    <tr>\n",
       "      <th>50%</th>\n",
       "      <td>59.50000</td>\n",
       "      <td>29.750000</td>\n",
       "      <td>1.000000</td>\n",
       "    </tr>\n",
       "    <tr>\n",
       "      <th>75%</th>\n",
       "      <td>61.25000</td>\n",
       "      <td>30.625000</td>\n",
       "      <td>1.000000</td>\n",
       "    </tr>\n",
       "    <tr>\n",
       "      <th>max</th>\n",
       "      <td>63.00000</td>\n",
       "      <td>31.500000</td>\n",
       "      <td>1.000000</td>\n",
       "    </tr>\n",
       "  </tbody>\n",
       "</table>\n",
       "</div>"
      ],
      "text/plain": [
       "          Marks  half_marks  male_female\n",
       "count   8.00000    8.000000     8.000000\n",
       "mean   59.50000   29.750000     0.625000\n",
       "std     2.44949    1.224745     0.517549\n",
       "min    56.00000   28.000000     0.000000\n",
       "25%    57.75000   28.875000     0.000000\n",
       "50%    59.50000   29.750000     1.000000\n",
       "75%    61.25000   30.625000     1.000000\n",
       "max    63.00000   31.500000     1.000000"
      ]
     },
     "execution_count": 41,
     "metadata": {},
     "output_type": "execute_result"
    }
   ],
   "source": [
    "df1.describe()\n",
    "#df1.describe(include='all')"
   ]
  },
  {
   "cell_type": "markdown",
   "id": "924356b9",
   "metadata": {},
   "source": [
    "# FIND UNIQUE VALUES FROM GENDER COLUMN\n"
   ]
  },
  {
   "cell_type": "code",
   "execution_count": 4,
   "id": "8363f69e",
   "metadata": {},
   "outputs": [
    {
     "data": {
      "text/plain": [
       "array(['male', 'female'], dtype=object)"
      ]
     },
     "execution_count": 4,
     "metadata": {},
     "output_type": "execute_result"
    }
   ],
   "source": [
    "import pandas as pd\n",
    "\n",
    "dict={'Names':['Ram','suresh','Suresh','Ramesh','Mohit','sonali','reena','soniya'], \n",
    "      'Marks':[56,57,58,59,60,61,62,63],\n",
    "      'Gender':['male','male','male','male','male','female','female','female']\n",
    "     }\n",
    "\n",
    "df1=pd.DataFrame(dict)\n",
    "df1['Gender'].unique()"
   ]
  },
  {
   "cell_type": "markdown",
   "id": "ff1ca229",
   "metadata": {},
   "source": [
    "# FIND THE NUMBER OF UNIQUE VALES FROM THE GENDER COLUMN"
   ]
  },
  {
   "cell_type": "code",
   "execution_count": 5,
   "id": "b56c749c",
   "metadata": {},
   "outputs": [
    {
     "data": {
      "text/plain": [
       "2"
      ]
     },
     "execution_count": 5,
     "metadata": {},
     "output_type": "execute_result"
    }
   ],
   "source": [
    "df1['Gender'].nunique()"
   ]
  },
  {
   "cell_type": "markdown",
   "id": "6499e2b8",
   "metadata": {},
   "source": [
    "# DISPLAY COUNT OF UNIQUE VALUES IN GENDER COLUMN"
   ]
  },
  {
   "cell_type": "code",
   "execution_count": 6,
   "id": "c3d5d5ef",
   "metadata": {},
   "outputs": [
    {
     "data": {
      "text/plain": [
       "Gender\n",
       "male      5\n",
       "female    3\n",
       "Name: count, dtype: int64"
      ]
     },
     "execution_count": 6,
     "metadata": {},
     "output_type": "execute_result"
    }
   ],
   "source": [
    "df1['Gender'].value_counts()"
   ]
  },
  {
   "cell_type": "markdown",
   "id": "6731a67f",
   "metadata": {},
   "source": [
    "# FIND TOTAL NUMBER OF STUDENT HAVING MARKS BETWEEN 90 TO 100(INCLUSIVE)USING BETWEEN METHOD"
   ]
  },
  {
   "cell_type": "code",
   "execution_count": 50,
   "id": "ea1daa7e",
   "metadata": {},
   "outputs": [
    {
     "data": {
      "text/plain": [
       "5"
      ]
     },
     "execution_count": 50,
     "metadata": {},
     "output_type": "execute_result"
    }
   ],
   "source": [
    "#df1[df1['Marks']>40]\n",
    "#len(df1[(df1['Marks']>=50) & (df1['Marks']<=60)])\n",
    "sum(df1['Marks'].between(50,60))"
   ]
  },
  {
   "cell_type": "markdown",
   "id": "6a542fee",
   "metadata": {},
   "source": [
    "# FIND AVERGE MARKS"
   ]
  },
  {
   "cell_type": "code",
   "execution_count": 51,
   "id": "7b61572e",
   "metadata": {},
   "outputs": [
    {
     "data": {
      "text/plain": [
       "59.5"
      ]
     },
     "execution_count": 51,
     "metadata": {},
     "output_type": "execute_result"
    }
   ],
   "source": [
    "#df1['Marks'].max()\n",
    "df1['Marks'].mean()\n",
    "#df1['Marks'].min()"
   ]
  },
  {
   "cell_type": "markdown",
   "id": "ec5ea73e",
   "metadata": {},
   "source": [
    "# APPLY METHOD"
   ]
  },
  {
   "cell_type": "code",
   "execution_count": 32,
   "id": "d407d71c",
   "metadata": {},
   "outputs": [
    {
     "data": {
      "text/html": [
       "<div>\n",
       "<style scoped>\n",
       "    .dataframe tbody tr th:only-of-type {\n",
       "        vertical-align: middle;\n",
       "    }\n",
       "\n",
       "    .dataframe tbody tr th {\n",
       "        vertical-align: top;\n",
       "    }\n",
       "\n",
       "    .dataframe thead th {\n",
       "        text-align: right;\n",
       "    }\n",
       "</style>\n",
       "<table border=\"1\" class=\"dataframe\">\n",
       "  <thead>\n",
       "    <tr style=\"text-align: right;\">\n",
       "      <th></th>\n",
       "      <th>Names</th>\n",
       "      <th>Marks</th>\n",
       "      <th>Gender</th>\n",
       "      <th>half_marks</th>\n",
       "    </tr>\n",
       "  </thead>\n",
       "  <tbody>\n",
       "    <tr>\n",
       "      <th>0</th>\n",
       "      <td>Ram</td>\n",
       "      <td>56</td>\n",
       "      <td>male</td>\n",
       "      <td>28.0</td>\n",
       "    </tr>\n",
       "    <tr>\n",
       "      <th>1</th>\n",
       "      <td>suresh</td>\n",
       "      <td>57</td>\n",
       "      <td>male</td>\n",
       "      <td>28.5</td>\n",
       "    </tr>\n",
       "    <tr>\n",
       "      <th>2</th>\n",
       "      <td>Suresh</td>\n",
       "      <td>58</td>\n",
       "      <td>male</td>\n",
       "      <td>29.0</td>\n",
       "    </tr>\n",
       "    <tr>\n",
       "      <th>3</th>\n",
       "      <td>Ramesh</td>\n",
       "      <td>59</td>\n",
       "      <td>male</td>\n",
       "      <td>29.5</td>\n",
       "    </tr>\n",
       "    <tr>\n",
       "      <th>4</th>\n",
       "      <td>Mohit</td>\n",
       "      <td>60</td>\n",
       "      <td>male</td>\n",
       "      <td>30.0</td>\n",
       "    </tr>\n",
       "    <tr>\n",
       "      <th>5</th>\n",
       "      <td>sonali</td>\n",
       "      <td>61</td>\n",
       "      <td>female</td>\n",
       "      <td>30.5</td>\n",
       "    </tr>\n",
       "    <tr>\n",
       "      <th>6</th>\n",
       "      <td>reena</td>\n",
       "      <td>62</td>\n",
       "      <td>female</td>\n",
       "      <td>31.0</td>\n",
       "    </tr>\n",
       "    <tr>\n",
       "      <th>7</th>\n",
       "      <td>soniya</td>\n",
       "      <td>63</td>\n",
       "      <td>female</td>\n",
       "      <td>31.5</td>\n",
       "    </tr>\n",
       "  </tbody>\n",
       "</table>\n",
       "</div>"
      ],
      "text/plain": [
       "    Names  Marks  Gender  half_marks\n",
       "0     Ram     56    male        28.0\n",
       "1  suresh     57    male        28.5\n",
       "2  Suresh     58    male        29.0\n",
       "3  Ramesh     59    male        29.5\n",
       "4   Mohit     60    male        30.0\n",
       "5  sonali     61  female        30.5\n",
       "6   reena     62  female        31.0\n",
       "7  soniya     63  female        31.5"
      ]
     },
     "execution_count": 32,
     "metadata": {},
     "output_type": "execute_result"
    }
   ],
   "source": [
    "def marks(x) :\n",
    "   return x/2\n",
    "\n",
    "df1['half_marks']=df1['Marks'].apply(marks)\n",
    "df1\n",
    "\n",
    "df1['half_marks']=df1['Marks'].apply(lambda x: x/2) \n",
    "df1\n"
   ]
  },
  {
   "cell_type": "markdown",
   "id": "5b10a40b",
   "metadata": {},
   "source": [
    "# MAP FUNCTION"
   ]
  },
  {
   "cell_type": "code",
   "execution_count": 33,
   "id": "414fd5a9",
   "metadata": {},
   "outputs": [
    {
     "data": {
      "text/html": [
       "<div>\n",
       "<style scoped>\n",
       "    .dataframe tbody tr th:only-of-type {\n",
       "        vertical-align: middle;\n",
       "    }\n",
       "\n",
       "    .dataframe tbody tr th {\n",
       "        vertical-align: top;\n",
       "    }\n",
       "\n",
       "    .dataframe thead th {\n",
       "        text-align: right;\n",
       "    }\n",
       "</style>\n",
       "<table border=\"1\" class=\"dataframe\">\n",
       "  <thead>\n",
       "    <tr style=\"text-align: right;\">\n",
       "      <th></th>\n",
       "      <th>Names</th>\n",
       "      <th>Marks</th>\n",
       "      <th>Gender</th>\n",
       "      <th>half_marks</th>\n",
       "      <th>male_female</th>\n",
       "    </tr>\n",
       "  </thead>\n",
       "  <tbody>\n",
       "    <tr>\n",
       "      <th>0</th>\n",
       "      <td>Ram</td>\n",
       "      <td>56</td>\n",
       "      <td>male</td>\n",
       "      <td>28.0</td>\n",
       "      <td>1</td>\n",
       "    </tr>\n",
       "    <tr>\n",
       "      <th>1</th>\n",
       "      <td>suresh</td>\n",
       "      <td>57</td>\n",
       "      <td>male</td>\n",
       "      <td>28.5</td>\n",
       "      <td>1</td>\n",
       "    </tr>\n",
       "    <tr>\n",
       "      <th>2</th>\n",
       "      <td>Suresh</td>\n",
       "      <td>58</td>\n",
       "      <td>male</td>\n",
       "      <td>29.0</td>\n",
       "      <td>1</td>\n",
       "    </tr>\n",
       "    <tr>\n",
       "      <th>3</th>\n",
       "      <td>Ramesh</td>\n",
       "      <td>59</td>\n",
       "      <td>male</td>\n",
       "      <td>29.5</td>\n",
       "      <td>1</td>\n",
       "    </tr>\n",
       "    <tr>\n",
       "      <th>4</th>\n",
       "      <td>Mohit</td>\n",
       "      <td>60</td>\n",
       "      <td>male</td>\n",
       "      <td>30.0</td>\n",
       "      <td>1</td>\n",
       "    </tr>\n",
       "    <tr>\n",
       "      <th>5</th>\n",
       "      <td>sonali</td>\n",
       "      <td>61</td>\n",
       "      <td>female</td>\n",
       "      <td>30.5</td>\n",
       "      <td>0</td>\n",
       "    </tr>\n",
       "    <tr>\n",
       "      <th>6</th>\n",
       "      <td>reena</td>\n",
       "      <td>62</td>\n",
       "      <td>female</td>\n",
       "      <td>31.0</td>\n",
       "      <td>0</td>\n",
       "    </tr>\n",
       "    <tr>\n",
       "      <th>7</th>\n",
       "      <td>soniya</td>\n",
       "      <td>63</td>\n",
       "      <td>female</td>\n",
       "      <td>31.5</td>\n",
       "      <td>0</td>\n",
       "    </tr>\n",
       "  </tbody>\n",
       "</table>\n",
       "</div>"
      ],
      "text/plain": [
       "    Names  Marks  Gender  half_marks  male_female\n",
       "0     Ram     56    male        28.0            1\n",
       "1  suresh     57    male        28.5            1\n",
       "2  Suresh     58    male        29.0            1\n",
       "3  Ramesh     59    male        29.5            1\n",
       "4   Mohit     60    male        30.0            1\n",
       "5  sonali     61  female        30.5            0\n",
       "6   reena     62  female        31.0            0\n",
       "7  soniya     63  female        31.5            0"
      ]
     },
     "execution_count": 33,
     "metadata": {},
     "output_type": "execute_result"
    }
   ],
   "source": [
    "df1['Names'].apply(len)\n",
    "#covert male =1 female 0\n",
    "df1['male_female']=df1['Gender'].map({'male':1,'female':0})\n",
    "df1"
   ]
  },
  {
   "cell_type": "markdown",
   "id": "2ff39a91",
   "metadata": {},
   "source": [
    "# DROP COLUMN"
   ]
  },
  {
   "cell_type": "code",
   "execution_count": 34,
   "id": "ce685bdc",
   "metadata": {},
   "outputs": [
    {
     "data": {
      "text/html": [
       "<div>\n",
       "<style scoped>\n",
       "    .dataframe tbody tr th:only-of-type {\n",
       "        vertical-align: middle;\n",
       "    }\n",
       "\n",
       "    .dataframe tbody tr th {\n",
       "        vertical-align: top;\n",
       "    }\n",
       "\n",
       "    .dataframe thead th {\n",
       "        text-align: right;\n",
       "    }\n",
       "</style>\n",
       "<table border=\"1\" class=\"dataframe\">\n",
       "  <thead>\n",
       "    <tr style=\"text-align: right;\">\n",
       "      <th></th>\n",
       "      <th>Names</th>\n",
       "      <th>Marks</th>\n",
       "      <th>Gender</th>\n",
       "    </tr>\n",
       "  </thead>\n",
       "  <tbody>\n",
       "    <tr>\n",
       "      <th>0</th>\n",
       "      <td>Ram</td>\n",
       "      <td>56</td>\n",
       "      <td>male</td>\n",
       "    </tr>\n",
       "    <tr>\n",
       "      <th>1</th>\n",
       "      <td>suresh</td>\n",
       "      <td>57</td>\n",
       "      <td>male</td>\n",
       "    </tr>\n",
       "    <tr>\n",
       "      <th>2</th>\n",
       "      <td>Suresh</td>\n",
       "      <td>58</td>\n",
       "      <td>male</td>\n",
       "    </tr>\n",
       "    <tr>\n",
       "      <th>3</th>\n",
       "      <td>Ramesh</td>\n",
       "      <td>59</td>\n",
       "      <td>male</td>\n",
       "    </tr>\n",
       "    <tr>\n",
       "      <th>4</th>\n",
       "      <td>Mohit</td>\n",
       "      <td>60</td>\n",
       "      <td>male</td>\n",
       "    </tr>\n",
       "    <tr>\n",
       "      <th>5</th>\n",
       "      <td>sonali</td>\n",
       "      <td>61</td>\n",
       "      <td>female</td>\n",
       "    </tr>\n",
       "    <tr>\n",
       "      <th>6</th>\n",
       "      <td>reena</td>\n",
       "      <td>62</td>\n",
       "      <td>female</td>\n",
       "    </tr>\n",
       "    <tr>\n",
       "      <th>7</th>\n",
       "      <td>soniya</td>\n",
       "      <td>63</td>\n",
       "      <td>female</td>\n",
       "    </tr>\n",
       "  </tbody>\n",
       "</table>\n",
       "</div>"
      ],
      "text/plain": [
       "    Names  Marks  Gender\n",
       "0     Ram     56    male\n",
       "1  suresh     57    male\n",
       "2  Suresh     58    male\n",
       "3  Ramesh     59    male\n",
       "4   Mohit     60    male\n",
       "5  sonali     61  female\n",
       "6   reena     62  female\n",
       "7  soniya     63  female"
      ]
     },
     "execution_count": 34,
     "metadata": {},
     "output_type": "execute_result"
    }
   ],
   "source": [
    "df1.drop('male_female',axis=1)\n",
    "df1.drop(['male_female','half_marks'],axis=1)\n",
    "\n"
   ]
  },
  {
   "cell_type": "markdown",
   "id": "4595d08d",
   "metadata": {},
   "source": [
    "# PRINT NAME OF COLOUM"
   ]
  },
  {
   "cell_type": "code",
   "execution_count": null,
   "id": "a0e39cdb",
   "metadata": {},
   "outputs": [],
   "source": [
    "df1.columns\n",
    "df1.index"
   ]
  },
  {
   "cell_type": "markdown",
   "id": "5e910595",
   "metadata": {},
   "source": [
    "# SORT THE DATAFRAME AS PER THE MARKS COLUMN"
   ]
  },
  {
   "cell_type": "code",
   "execution_count": null,
   "id": "c06faf6a",
   "metadata": {},
   "outputs": [],
   "source": [
    "df1.sort_values(by='Marks',ascending=False)"
   ]
  },
  {
   "cell_type": "markdown",
   "id": "5967918e",
   "metadata": {},
   "source": [
    "# DISPLAY NAME & MARKS OF THE FEMALE STUDENT\n"
   ]
  },
  {
   "cell_type": "code",
   "execution_count": null,
   "id": "61c9d0c4",
   "metadata": {},
   "outputs": [],
   "source": [
    "df1[df1['Gender']=='female'][['Names','Marks']]\n",
    "\n",
    "df1[df1['Gender'].isin(['female'])][['Names','Marks']]"
   ]
  },
  {
   "cell_type": "code",
   "execution_count": null,
   "id": "0e7482ee",
   "metadata": {},
   "outputs": [],
   "source": []
  }
 ],
 "metadata": {
  "kernelspec": {
   "display_name": "Python 3 (ipykernel)",
   "language": "python",
   "name": "python3"
  },
  "language_info": {
   "codemirror_mode": {
    "name": "ipython",
    "version": 3
   },
   "file_extension": ".py",
   "mimetype": "text/x-python",
   "name": "python",
   "nbconvert_exporter": "python",
   "pygments_lexer": "ipython3",
   "version": "3.12.1"
  },
  "varInspector": {
   "cols": {
    "lenName": 16,
    "lenType": 16,
    "lenVar": 40
   },
   "kernels_config": {
    "python": {
     "delete_cmd_postfix": "",
     "delete_cmd_prefix": "del ",
     "library": "var_list.py",
     "varRefreshCmd": "print(var_dic_list())"
    },
    "r": {
     "delete_cmd_postfix": ") ",
     "delete_cmd_prefix": "rm(",
     "library": "var_list.r",
     "varRefreshCmd": "cat(var_dic_list()) "
    }
   },
   "types_to_exclude": [
    "module",
    "function",
    "builtin_function_or_method",
    "instance",
    "_Feature"
   ],
   "window_display": false
  }
 },
 "nbformat": 4,
 "nbformat_minor": 5
}
